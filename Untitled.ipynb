{
 "cells": [
  {
   "cell_type": "code",
   "execution_count": 1,
   "id": "fcdd6182",
   "metadata": {},
   "outputs": [
    {
     "name": "stderr",
     "output_type": "stream",
     "text": [
      "2023-06-12 17:00:36.700414: I tensorflow/core/util/port.cc:110] oneDNN custom operations are on. You may see slightly different numerical results due to floating-point round-off errors from different computation orders. To turn them off, set the environment variable `TF_ENABLE_ONEDNN_OPTS=0`.\n",
      "2023-06-12 17:00:36.925184: I tensorflow/core/platform/cpu_feature_guard.cc:182] This TensorFlow binary is optimized to use available CPU instructions in performance-critical operations.\n",
      "To enable the following instructions: AVX2 AVX_VNNI FMA, in other operations, rebuild TensorFlow with the appropriate compiler flags.\n",
      "2023-06-12 17:00:37.944704: W tensorflow/compiler/tf2tensorrt/utils/py_utils.cc:38] TF-TRT Warning: Could not find TensorRT\n"
     ]
    }
   ],
   "source": [
    "import numpy as np\n",
    "from keras.datasets import mnist\n",
    "from keras.models import Sequential\n",
    "from keras.layers import Dense\n",
    "from keras.utils import to_categorical\n"
   ]
  },
  {
   "cell_type": "code",
   "execution_count": 2,
   "id": "3d8b798f",
   "metadata": {},
   "outputs": [],
   "source": [
    "# Load the MNIST dataset\n",
    "(X_train, y_train), (X_test, y_test) = mnist.load_data()"
   ]
  },
  {
   "cell_type": "code",
   "execution_count": 3,
   "id": "0945afb5",
   "metadata": {},
   "outputs": [],
   "source": [
    "# Preprocess the data\n",
    "X_train = X_train.reshape(-1, 28 * 28)  # Flatten the 2D images into 1D arrays\n",
    "X_test = X_test.reshape(-1, 28 * 28)\n",
    "X_train = X_train.astype('float32') / 255  # Normalize pixel values between 0 and 1\n",
    "X_test = X_test.astype('float32') / 255"
   ]
  },
  {
   "cell_type": "code",
   "execution_count": 4,
   "id": "a31fbed7",
   "metadata": {},
   "outputs": [],
   "source": [
    "# Convert the labels to one-hot encoded vectors\n",
    "y_train = to_categorical(y_train)\n",
    "y_test = to_categorical(y_test)"
   ]
  },
  {
   "cell_type": "code",
   "execution_count": 5,
   "id": "a5cf3f59",
   "metadata": {},
   "outputs": [
    {
     "name": "stderr",
     "output_type": "stream",
     "text": [
      "2023-06-12 17:00:49.359733: E tensorflow/compiler/xla/stream_executor/cuda/cuda_driver.cc:266] failed call to cuInit: CUDA_ERROR_NO_DEVICE: no CUDA-capable device is detected\n"
     ]
    }
   ],
   "source": [
    "# Build the fully connected network\n",
    "model = Sequential()\n",
    "model.add(Dense(512, activation='relu', input_shape=(28 * 28,)))\n",
    "model.add(Dense(256, activation='relu'))\n",
    "model.add(Dense(10, activation='softmax'))"
   ]
  },
  {
   "cell_type": "code",
   "execution_count": 6,
   "id": "85456308",
   "metadata": {},
   "outputs": [
    {
     "name": "stdout",
     "output_type": "stream",
     "text": [
      "Epoch 1/10\n",
      "375/375 [==============================] - 7s 17ms/step - loss: 0.2562 - accuracy: 0.9238 - val_loss: 0.1338 - val_accuracy: 0.9589\n",
      "Epoch 2/10\n",
      "375/375 [==============================] - 6s 15ms/step - loss: 0.0915 - accuracy: 0.9718 - val_loss: 0.0905 - val_accuracy: 0.9713\n",
      "Epoch 3/10\n",
      "375/375 [==============================] - 7s 18ms/step - loss: 0.0575 - accuracy: 0.9819 - val_loss: 0.0960 - val_accuracy: 0.9714\n",
      "Epoch 4/10\n",
      "375/375 [==============================] - 6s 17ms/step - loss: 0.0392 - accuracy: 0.9878 - val_loss: 0.0926 - val_accuracy: 0.9723\n",
      "Epoch 5/10\n",
      "375/375 [==============================] - 6s 17ms/step - loss: 0.0269 - accuracy: 0.9917 - val_loss: 0.0850 - val_accuracy: 0.9776\n",
      "Epoch 6/10\n",
      "375/375 [==============================] - 6s 16ms/step - loss: 0.0221 - accuracy: 0.9930 - val_loss: 0.0875 - val_accuracy: 0.9753\n",
      "Epoch 7/10\n",
      "375/375 [==============================] - 6s 17ms/step - loss: 0.0157 - accuracy: 0.9952 - val_loss: 0.0907 - val_accuracy: 0.9752\n",
      "Epoch 8/10\n",
      "375/375 [==============================] - 7s 17ms/step - loss: 0.0141 - accuracy: 0.9956 - val_loss: 0.0918 - val_accuracy: 0.9775\n",
      "Epoch 9/10\n",
      "375/375 [==============================] - 6s 16ms/step - loss: 0.0181 - accuracy: 0.9940 - val_loss: 0.0946 - val_accuracy: 0.9783\n",
      "Epoch 10/10\n",
      "375/375 [==============================] - 6s 15ms/step - loss: 0.0089 - accuracy: 0.9970 - val_loss: 0.0903 - val_accuracy: 0.9782\n",
      "313/313 [==============================] - 1s 5ms/step - loss: 0.0782 - accuracy: 0.9806\n",
      "Test Loss: 0.07823742926120758\n",
      "Test Accuracy: 0.9805999994277954\n"
     ]
    }
   ],
   "source": [
    "# Compile the model\n",
    "model.compile(optimizer='adam', loss='categorical_crossentropy', metrics=['accuracy'])\n",
    "\n",
    "# Train the model\n",
    "model.fit(X_train, y_train, epochs=10, batch_size=128, validation_split=0.2)\n",
    "\n",
    "# Evaluate the model\n",
    "loss, accuracy = model.evaluate(X_test, y_test)\n",
    "print(\"Test Loss:\", loss)\n",
    "print(\"Test Accuracy:\", accuracy)"
   ]
  }
 ],
 "metadata": {
  "kernelspec": {
   "display_name": "Python 3",
   "language": "python",
   "name": "python3"
  },
  "language_info": {
   "codemirror_mode": {
    "name": "ipython",
    "version": 3
   },
   "file_extension": ".py",
   "mimetype": "text/x-python",
   "name": "python",
   "nbconvert_exporter": "python",
   "pygments_lexer": "ipython3",
   "version": "3.10.6"
  }
 },
 "nbformat": 4,
 "nbformat_minor": 5
}
